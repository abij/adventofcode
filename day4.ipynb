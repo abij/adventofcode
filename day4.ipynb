{
 "cells": [
  {
   "cell_type": "markdown",
   "metadata": {},
   "source": [
    "# Day 4: Repose Record \n",
    "\n",
    "## Part 1:\n",
    "Strategy 1: Find the guard that has the most minutes asleep. What minute does that guard spend asleep the most?"
   ]
  },
  {
   "cell_type": "code",
   "execution_count": null,
   "metadata": {},
   "outputs": [],
   "source": [
    "# Test data: #10 sleeps most, at 24th minute, so 240 is answer\n",
    "lines = [\"[1518-11-01 00:00] Guard #10 begins shift\",\n",
    "\"[1518-11-01 00:05] falls asleep\",\n",
    "\"[1518-11-01 00:25] wakes up\",\n",
    "\"[1518-11-01 00:30] falls asleep\",\n",
    "\"[1518-11-01 00:55] wakes up\",\n",
    "\"[1518-11-01 23:58] Guard #99 begins shift\",\n",
    "\"[1518-11-02 00:40] falls asleep\",\n",
    "\"[1518-11-02 00:50] wakes up\",\n",
    "\"[1518-11-03 00:05] Guard #10 begins shift\",\n",
    "\"[1518-11-03 00:24] falls asleep\",\n",
    "\"[1518-11-03 00:29] wakes up\",\n",
    "\"[1518-11-04 00:02] Guard #99 begins shift\",\n",
    "\"[1518-11-04 00:36] falls asleep\",\n",
    "\"[1518-11-04 00:46] wakes up\",\n",
    "\"[1518-11-05 00:03] Guard #99 begins shift\",\n",
    "\"[1518-11-05 00:45] falls asleep\",\n",
    "\"[1518-11-05 00:55] wakes up\"]"
   ]
  },
  {
   "cell_type": "code",
   "execution_count": null,
   "metadata": {},
   "outputs": [],
   "source": [
    "with open('inputs/day4.txt') as f:\n",
    "    lines = [x.strip() for x in f.readlines() if x]"
   ]
  },
  {
   "cell_type": "markdown",
   "metadata": {},
   "source": [
    "Example data:\n",
    "\n",
    "    [1518-07-04 00:02] Guard #109 begins shift\n",
    "    [1518-04-28 00:57] wakes up\n",
    "    [1518-04-27 00:52] falls asleep\n",
    "    \n",
    "Only minute 0-59 are relevant"
   ]
  },
  {
   "cell_type": "code",
   "execution_count": null,
   "metadata": {},
   "outputs": [],
   "source": [
    "lines = sorted(lines)"
   ]
  },
  {
   "cell_type": "code",
   "execution_count": null,
   "metadata": {},
   "outputs": [],
   "source": [
    "import re\n",
    "import datetime as dt\n",
    "\n",
    "def parse(line):\n",
    "    m = re.match('^\\[(\\d+)-(\\d+)-(\\d+) (\\d+):(\\d+)\\] (.*)', line)\n",
    "    year, month, date, hour, minute, event = m.groups()\n",
    "    return dt.datetime(int(year), int(month), int(date), int(hour), int(minute)), event\n"
   ]
  },
  {
   "cell_type": "code",
   "execution_count": null,
   "metadata": {},
   "outputs": [],
   "source": [
    "events = [parse(line) for line in lines]\n",
    "\n",
    "def guard_asleep():\n",
    "    \"\"\"\n",
    "    yields: (guard_id, minute)\n",
    "    \"\"\"\n",
    "    curr_guard = None\n",
    "    start_sleep = None\n",
    "\n",
    "    for date, event in events:\n",
    "        m = re.match('Guard #(\\d+) begins shift', event)\n",
    "        if m:\n",
    "            curr_guard = int(m.groups()[0])\n",
    "            start_sleep = None\n",
    "        elif 'falls asleep' == event:\n",
    "            start_sleep = date\n",
    "        elif 'wakes up' == event:\n",
    "            for minute in range(start_sleep.minute, date.minute):\n",
    "                yield curr_guard, minute"
   ]
  },
  {
   "cell_type": "code",
   "execution_count": null,
   "metadata": {},
   "outputs": [],
   "source": [
    "from collections import defaultdict\n",
    "sleep_counter = defaultdict(int)\n",
    "\n",
    "for guard_id, minute in guard_asleep():\n",
    "    sleep_counter[guard_id] += 1\n",
    "\n",
    "longest_sleeper = max(sleep_counter, key=sleep_counter.get)\n",
    "longest_sleeper       "
   ]
  },
  {
   "cell_type": "code",
   "execution_count": null,
   "metadata": {},
   "outputs": [],
   "source": [
    "minutes = [minute for guard_id, minute in guard_asleep() if guard_id == longest_sleeper]\n",
    "\n",
    "from collections import Counter\n",
    "c = Counter(minutes)\n",
    "\n",
    "minute = max(c, key=c.get)\n",
    "minute"
   ]
  },
  {
   "cell_type": "code",
   "execution_count": null,
   "metadata": {},
   "outputs": [],
   "source": [
    "print('Answer: %s' % str(longest_sleeper * minute))"
   ]
  },
  {
   "cell_type": "markdown",
   "metadata": {},
   "source": [
    "## Part 2:\n",
    "Strategy 2: Of all guards, which guard is most frequently asleep on the same minute?"
   ]
  },
  {
   "cell_type": "code",
   "execution_count": null,
   "metadata": {},
   "outputs": [],
   "source": [
    "c = Counter(guard_asleep())\n",
    "# Counter contains k:v as (guard_id, minute) : nr_occurences\n",
    "\n",
    "guard, minute = [k for k,v in c.items() if v == max(c.values())][0]\n",
    "\n",
    "print('Answer: %s' % (guard_id * minute))"
   ]
  }
 ],
 "metadata": {
  "kernelspec": {
   "display_name": "Python 3",
   "language": "python",
   "name": "python3"
  },
  "language_info": {
   "codemirror_mode": {
    "name": "ipython",
    "version": 3
   },
   "file_extension": ".py",
   "mimetype": "text/x-python",
   "name": "python",
   "nbconvert_exporter": "python",
   "pygments_lexer": "ipython3",
   "version": "3.5.5"
  }
 },
 "nbformat": 4,
 "nbformat_minor": 2
}
