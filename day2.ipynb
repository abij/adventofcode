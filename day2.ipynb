{
 "cells": [
  {
   "cell_type": "markdown",
   "metadata": {},
   "source": [
    "# Day 2 - Inventory Management System\n",
    "## part 1:\n",
    "To make sure you didn't miss any, you scan the likely candidate boxes again, counting the number that have an ID containing exactly two of any letter and then separately counting those with exactly three of any letter. You can multiply those two counts together to get a rudimentary checksum and compare it to what your device predicts.\n"
   ]
  },
  {
   "cell_type": "code",
   "execution_count": null,
   "metadata": {},
   "outputs": [],
   "source": [
    "with open('inputs/day2.txt') as f:\n",
    "    codes = [x.strip() for x in f.readlines() if x]"
   ]
  },
  {
   "cell_type": "code",
   "execution_count": null,
   "metadata": {},
   "outputs": [],
   "source": [
    "import re\n",
    "\n",
    "twice = 0\n",
    "tripple = 0\n",
    "\n",
    "for code in codes:\n",
    "    hit_twice = False\n",
    "    hit_tripple = False\n",
    "    \n",
    "    for c in set(code):\n",
    "        found = len(re.findall(c, code))\n",
    "        if found == 2:\n",
    "            hit_twice = True\n",
    "        elif found == 3:\n",
    "            hit_tripple = True\n",
    "    \n",
    "    if hit_twice:\n",
    "        twice += 1\n",
    "    if hit_tripple:\n",
    "        tripple += 1\n",
    "            \n",
    "\n",
    "print('Answer: %s' % (twice * tripple))"
   ]
  },
  {
   "cell_type": "markdown",
   "metadata": {},
   "source": [
    "## part 2:\n",
    "What letters are common between the two correct box IDs? Only 1 change needed."
   ]
  },
  {
   "cell_type": "code",
   "execution_count": null,
   "metadata": {},
   "outputs": [],
   "source": [
    "def find_diffs(a, b):\n",
    "    diffs = []\n",
    "    for i, char in enumerate(a):\n",
    "        if b[i] != char:\n",
    "            diffs.append(i)\n",
    "        if len(diffs) > 1:\n",
    "            # quick exit, might be more diffs...\n",
    "            return diffs\n",
    "    return diffs"
   ]
  },
  {
   "cell_type": "code",
   "execution_count": null,
   "metadata": {},
   "outputs": [],
   "source": [
    "for i, code in enumerate(codes):\n",
    "    for other_code in codes[i+1:]:\n",
    "        diffs = find_diffs(code, other_code)\n",
    "        if len(diffs) == 1:\n",
    "            diff = diffs[0]\n",
    "            print('Answer: %s%s' % (code[0:diff], code[diff+1:]))\n",
    "            break"
   ]
  }
 ],
 "metadata": {
  "kernelspec": {
   "display_name": "Python 3",
   "language": "python",
   "name": "python3"
  },
  "language_info": {
   "codemirror_mode": {
    "name": "ipython",
    "version": 3
   },
   "file_extension": ".py",
   "mimetype": "text/x-python",
   "name": "python",
   "nbconvert_exporter": "python",
   "pygments_lexer": "ipython3",
   "version": "3.5.5"
  }
 },
 "nbformat": 4,
 "nbformat_minor": 2
}
