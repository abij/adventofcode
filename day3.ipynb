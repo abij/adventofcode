{
 "cells": [
  {
   "cell_type": "markdown",
   "metadata": {},
   "source": [
    "# Day 3: No Matter How You Slice It\n",
    "\n",
    "## Part 1:\n",
    "How many square inches of fabric are within two or more claims?"
   ]
  },
  {
   "cell_type": "code",
   "execution_count": null,
   "metadata": {},
   "outputs": [],
   "source": [
    "# Test data, expected 4 overlap (#1 and #2)\n",
    "lines = [\"#1 @ 1,3: 4x4\",\n",
    "         \"#2 @ 3,1: 4x4\",\n",
    "         \"#3 @ 5,5: 2x2\"]"
   ]
  },
  {
   "cell_type": "code",
   "execution_count": null,
   "metadata": {},
   "outputs": [],
   "source": [
    "with open('inputs/day3.txt') as f:\n",
    "    lines = [x.strip() for x in f.readlines() if x]"
   ]
  },
  {
   "cell_type": "code",
   "execution_count": null,
   "metadata": {},
   "outputs": [],
   "source": [
    "import re\n",
    "\n",
    "def parse(line):\n",
    "    \"\"\"\n",
    "    Parse data into a dict {'idx': 1, 'tall': 16, 'wide': 22, 'x': 604, 'y': 670} using regex!\n",
    "    \"\"\"\n",
    "    m = re.match('^#(?P<idx>\\d+) @ (?P<x>\\d+),(?P<y>\\d+): (?P<wide>\\d+)x(?P<tall>\\d+)', line)\n",
    "    assert len(m.groups()) == 5, 'parsing failed for line: ' + line\n",
    "    return {k: int(v) for (k,v) in m.groupdict().items()}\n",
    "\n",
    "claims = [parse(line) for line in lines]"
   ]
  },
  {
   "cell_type": "code",
   "execution_count": null,
   "metadata": {},
   "outputs": [],
   "source": [
    "width = max([c['x'] + c['wide'] for c in claims])\n",
    "height = max([c['y'] + c['tall'] for c in claims])\n",
    "\n",
    "import numpy as np\n",
    "grid = np.zeros((height, width), dtype=np.int16)\n",
    "\n",
    "print('Grid of zeros with dimension [%s,%s] counting overlap' % (width, height))"
   ]
  },
  {
   "cell_type": "code",
   "execution_count": null,
   "metadata": {},
   "outputs": [],
   "source": [
    "for claim in claims:\n",
    "    x = claim['x']\n",
    "    y = claim['y']\n",
    "    wide = claim['wide']\n",
    "    tall = claim['tall']\n",
    "    # Why is this range selection so hard!!!\n",
    "    grid[y:y+tall, x:x+wide] += 1"
   ]
  },
  {
   "cell_type": "code",
   "execution_count": null,
   "metadata": {},
   "outputs": [],
   "source": [
    "print('Answer: %s' % len(grid[grid > 1]))"
   ]
  },
  {
   "cell_type": "markdown",
   "metadata": {},
   "source": [
    "## Part 2:\n",
    "What is the ID of the only claim that doesn't overlap?"
   ]
  },
  {
   "cell_type": "code",
   "execution_count": null,
   "metadata": {},
   "outputs": [],
   "source": [
    "What is the ID of the only claim that doesn't overlap"
   ]
  },
  {
   "cell_type": "code",
   "execution_count": null,
   "metadata": {},
   "outputs": [],
   "source": [
    "for claim in claims:\n",
    "    idx = claim['idx']\n",
    "    x = claim['x']\n",
    "    y = claim['y']\n",
    "    wide = claim['wide']\n",
    "    tall = claim['tall']\n",
    "\n",
    "    if np.alltrue(grid[y:y+tall, x:x+wide] == 1):\n",
    "        print('Answer (id): %s' % idx)\n",
    "        break"
   ]
  }
 ],
 "metadata": {
  "kernelspec": {
   "display_name": "Python 3",
   "language": "python",
   "name": "python3"
  },
  "language_info": {
   "codemirror_mode": {
    "name": "ipython",
    "version": 3
   },
   "file_extension": ".py",
   "mimetype": "text/x-python",
   "name": "python",
   "nbconvert_exporter": "python",
   "pygments_lexer": "ipython3",
   "version": "3.5.5"
  }
 },
 "nbformat": 4,
 "nbformat_minor": 2
}
