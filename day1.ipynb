{
 "cells": [
  {
   "cell_type": "markdown",
   "metadata": {},
   "source": [
    "# Day 1 - Chronal Calibration\n",
    "## Part 1: \n",
    "Starting with a frequency of zero, what is the resulting \n",
    "frequency after all of the changes in frequency have been applied?"
   ]
  },
  {
   "cell_type": "code",
   "execution_count": null,
   "metadata": {},
   "outputs": [],
   "source": [
    "# read input, parse data\n",
    "with open('inputs/day1.txt') as f:\n",
    "    calibrations = [int(x) for x in f.readlines() if x] # filter empty lines out"
   ]
  },
  {
   "cell_type": "code",
   "execution_count": null,
   "metadata": {},
   "outputs": [],
   "source": [
    "frequency = 0\n",
    "\n",
    "for c in calibrations:\n",
    "    frequency += c\n",
    "\n",
    "print('Answer: %s' % frequency)"
   ]
  },
  {
   "cell_type": "markdown",
   "metadata": {},
   "source": [
    "## Part 2: \n",
    "To calibrate the device, you need to find the first frequency it reaches twice"
   ]
  },
  {
   "cell_type": "code",
   "execution_count": null,
   "metadata": {},
   "outputs": [],
   "source": [
    "double_found = False\n",
    "freq = 0\n",
    "seen = set([0])  # (Hash)set is faster than a list and free de-duplication!\n",
    "\n",
    "while not double_found:\n",
    "    for c in calibrations:\n",
    "        freq += c\n",
    "        if freq in seen:\n",
    "            print(freq)\n",
    "            double_found = True\n",
    "            break\n",
    "        seen.add(freq)"
   ]
  }
 ],
 "metadata": {
  "kernelspec": {
   "display_name": "Python 3",
   "language": "python",
   "name": "python3"
  },
  "language_info": {
   "codemirror_mode": {
    "name": "ipython",
    "version": 3
   },
   "file_extension": ".py",
   "mimetype": "text/x-python",
   "name": "python",
   "nbconvert_exporter": "python",
   "pygments_lexer": "ipython3",
   "version": "3.5.5"
  }
 },
 "nbformat": 4,
 "nbformat_minor": 2
}
