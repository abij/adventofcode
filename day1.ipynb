{
 "cells": [
  {
   "cell_type": "markdown",
   "metadata": {},
   "source": [
    "# Day 1 - Chronal Calibration\n",
    "## Part 1: \n",
    "Starting with a frequency of zero, what is the resulting \n",
    "frequency after all of the changes in frequency have been applied?"
   ]
  },
  {
   "cell_type": "code",
   "execution_count": null,
   "metadata": {},
   "outputs": [],
   "source": [
    "# read input, parse data\n",
    "with open('inputs/day1.txt') as f:\n",
    "    calibrations = [int(x) for x in f.readlines() if x] # filter empty lines out"
   ]
  },
  {
   "cell_type": "code",
   "execution_count": null,
   "metadata": {},
   "outputs": [],
   "source": [
    "frequency = 0\n",
    "\n",
    "for c in calibrations:\n",
    "    frequency += c\n",
    "\n",
    "print('Answer: %s' % frequency)"
   ]
  },
  {
   "cell_type": "markdown",
   "metadata": {},
   "source": [
    "## Part 2: \n",
    "To calibrate the device, you need to find the first frequency it reaches twice"
   ]
  },
  {
   "cell_type": "code",
   "execution_count": null,
   "metadata": {},
   "outputs": [],
   "source": [
    "# This recusive method is nice, but takes too much depth.\n",
    "# So its wrapped inside a while loop (next cell)...\n",
    "def find_frequency(curr_freq, seen, append_to_seen=False, index=0):\n",
    "    new_freq = curr_freq + calibrations[index]\n",
    "    \n",
    "    # Stop conditions:\n",
    "    if new_freq in seen:\n",
    "        # Found a duplicate\n",
    "        return True, new_freq, seen\n",
    "    elif index == len(calibrations) - 1:\n",
    "        # At the end of the list of numbers\n",
    "        return False, new_freq, seen\n",
    "    \n",
    "    # Speed optimalisation, only add numbers from first round.\n",
    "    # Asume we are looking for a number in from the first round.\n",
    "    if append_to_seen:\n",
    "        seen = seen + (new_freq,)\n",
    "        \n",
    "    # Recursive loop:\n",
    "    return find_frequency(new_freq, seen, append_to_seen, index+1)"
   ]
  },
  {
   "cell_type": "code",
   "execution_count": null,
   "metadata": {},
   "outputs": [],
   "source": [
    "%%time\n",
    "\n",
    "# Start state\n",
    "solved = False\n",
    "freq = 0       # Start with 0\n",
    "seen = (freq,) # Set of numbers to track\n",
    "\n",
    "cnt = 0  # count loops, preventing too much depth of recursion.\n",
    "\n",
    "while not solved:\n",
    "    solved, freq, seen = find_frequency(freq, seen, append_to_seen=cnt == 0) \n",
    "    cnt += 1\n",
    "\n",
    "print('Answer: %s in %s loops, unique numbers: %s' % (freq, cnt, len(seen)))"
   ]
  },
  {
   "cell_type": "code",
   "execution_count": null,
   "metadata": {},
   "outputs": [],
   "source": []
  }
 ],
 "metadata": {
  "kernelspec": {
   "display_name": "Python 3",
   "language": "python",
   "name": "python3"
  },
  "language_info": {
   "codemirror_mode": {
    "name": "ipython",
    "version": 3
   },
   "file_extension": ".py",
   "mimetype": "text/x-python",
   "name": "python",
   "nbconvert_exporter": "python",
   "pygments_lexer": "ipython3",
   "version": "3.5.5"
  }
 },
 "nbformat": 4,
 "nbformat_minor": 2
}
